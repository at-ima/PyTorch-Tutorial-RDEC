{
 "cells": [
  {
   "cell_type": "markdown",
   "id": "ad466e05-d9a8-43c2-bebe-70443cb9c505",
   "metadata": {},
   "source": [
    "# import"
   ]
  },
  {
   "cell_type": "code",
   "execution_count": 1,
   "id": "3ed86e1c-3a52-45d9-8d1a-d73aa0508ed9",
   "metadata": {},
   "outputs": [],
   "source": [
    "import sys\n",
    "import os\n",
    "from tqdm import tqdm\n",
    "\n",
    "import torch\n",
    "from torch import nn, optim\n",
    "from torch.optim import lr_scheduler\n",
    "\n",
    "import matplotlib.pyplot as plt\n",
    "import numpy as np\n",
    "\n",
    "from tensorboardX import SummaryWriter\n",
    "\n",
    "sys.path.append('../src/')\n",
    "import utils\n",
    "import dataloader\n",
    "from train_utils import *\n",
    "from model.AutoEncoder import EncoderBlock\n",
    "from model.RDEC import RDEC"
   ]
  },
  {
   "cell_type": "markdown",
   "id": "0be0a732-30ee-48bd-9268-c895a208a5fc",
   "metadata": {},
   "source": [
    "# set params"
   ]
  },
  {
   "cell_type": "code",
   "execution_count": 2,
   "id": "f970ba5d-51ca-41f2-9a53-d8cee8cff26c",
   "metadata": {},
   "outputs": [],
   "source": [
    "config = utils.readConfig('../config.json')"
   ]
  },
  {
   "cell_type": "code",
   "execution_count": 3,
   "id": "f660b5f0-e8d6-4e04-976d-6ebd845c54f6",
   "metadata": {},
   "outputs": [],
   "source": [
    "train_config = config['train_params']['train']\n",
    "\n",
    "batch_size = train_config['batch_size']\n",
    "\n",
    "model_config = config['model_params']\n",
    "encoder_layers = model_config['encoder_layers']\n",
    "num_clusters = model_config['num_clusters']\n",
    "\n",
    "output_dir = '../data/train'\n",
    "utils.makeDirs(output_dir, ['log', 'weights'])\n",
    "\n",
    "weight_path = '../data/train/weights/RDEC.pth'"
   ]
  },
  {
   "cell_type": "markdown",
   "id": "13b135c6-4e17-4de6-8d25-62b5c78de3e6",
   "metadata": {},
   "source": [
    "# load dataset"
   ]
  },
  {
   "cell_type": "code",
   "execution_count": 4,
   "id": "d314139a-60ae-4cf3-a026-b94a54ebf173",
   "metadata": {},
   "outputs": [],
   "source": [
    "dataloaders, classes = dataloader.load_mnist('../data', batch_size)"
   ]
  },
  {
   "cell_type": "markdown",
   "id": "73164a19-7911-423f-b53c-9effdac949d8",
   "metadata": {},
   "source": [
    "# def model"
   ]
  },
  {
   "cell_type": "code",
   "execution_count": 5,
   "id": "902e2444-53db-4ffc-b4f9-fba47f9cda6d",
   "metadata": {},
   "outputs": [
    {
     "data": {
      "text/plain": [
       "<All keys matched successfully>"
      ]
     },
     "execution_count": 5,
     "metadata": {},
     "output_type": "execute_result"
    }
   ],
   "source": [
    "encoder = EncoderBlock(encoder_layers)\n",
    "for input_data, label in dataloaders['train']:\n",
    "    break\n",
    "model = RDEC(encoder, num_clusters, input_data,)\n",
    "model.load_state_dict(torch.load(weight_path))"
   ]
  },
  {
   "cell_type": "code",
   "execution_count": 6,
   "id": "fb020622-59f9-4e1e-aa7f-6b1f73f633ca",
   "metadata": {},
   "outputs": [],
   "source": [
    "for imgs, labels in dataloaders['test']:\n",
    "    break"
   ]
  },
  {
   "cell_type": "raw",
   "id": "27152aa2-5a50-46ee-a8b8-bdeb9f2c3b33",
   "metadata": {},
   "source": [
    "print(labels[idx].numpy())\n",
    "plt.imshow(imgs[idx, 0].numpy())"
   ]
  },
  {
   "cell_type": "raw",
   "id": "4e82a71d-a8d0-4e5a-8b97-3a6f9fb6ddb5",
   "metadata": {},
   "source": [
    "label"
   ]
  },
  {
   "cell_type": "raw",
   "id": "10979c2e-4c54-4c5c-bbbe-56e80fddf4c0",
   "metadata": {},
   "source": [
    "q = model(imgs)\n",
    "q.argmax(1)"
   ]
  },
  {
   "cell_type": "code",
   "execution_count": null,
   "id": "5629615a-2b10-4bb4-9a67-c3e3d312a552",
   "metadata": {},
   "outputs": [],
   "source": []
  }
 ],
 "metadata": {
  "kernelspec": {
   "display_name": "Python 3",
   "language": "python",
   "name": "python3"
  },
  "language_info": {
   "codemirror_mode": {
    "name": "ipython",
    "version": 3
   },
   "file_extension": ".py",
   "mimetype": "text/x-python",
   "name": "python",
   "nbconvert_exporter": "python",
   "pygments_lexer": "ipython3",
   "version": "3.8.5"
  }
 },
 "nbformat": 4,
 "nbformat_minor": 5
}
