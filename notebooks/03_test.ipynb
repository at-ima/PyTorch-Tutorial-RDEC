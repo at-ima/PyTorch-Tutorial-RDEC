{
 "cells": [
  {
   "cell_type": "markdown",
   "id": "ad466e05-d9a8-43c2-bebe-70443cb9c505",
   "metadata": {},
   "source": [
    "# import"
   ]
  },
  {
   "cell_type": "code",
   "execution_count": 1,
   "id": "3ed86e1c-3a52-45d9-8d1a-d73aa0508ed9",
   "metadata": {},
   "outputs": [],
   "source": [
    "import sys\n",
    "import os\n",
    "from tqdm import tqdm\n",
    "\n",
    "import torch\n",
    "\n",
    "import matplotlib.pyplot as plt\n",
    "import numpy as np\n",
    "\n",
    "sys.path.append('../src/')\n",
    "import utils\n",
    "import dataloader\n",
    "from train_utils import *\n",
    "from model.AutoEncoder import EncoderBlock\n",
    "from model.RDEC import RDEC"
   ]
  },
  {
   "cell_type": "markdown",
   "id": "0be0a732-30ee-48bd-9268-c895a208a5fc",
   "metadata": {},
   "source": [
    "# set params"
   ]
  },
  {
   "cell_type": "code",
   "execution_count": 2,
   "id": "f970ba5d-51ca-41f2-9a53-d8cee8cff26c",
   "metadata": {},
   "outputs": [],
   "source": [
    "config = utils.readConfig('../config.json')"
   ]
  },
  {
   "cell_type": "code",
   "execution_count": 3,
   "id": "f660b5f0-e8d6-4e04-976d-6ebd845c54f6",
   "metadata": {},
   "outputs": [],
   "source": [
    "train_config = config['train_params']['train']\n",
    "\n",
    "batch_size = train_config['batch_size']\n",
    "\n",
    "model_config = config['model_params']\n",
    "encoder_layers = model_config['encoder_layers']\n",
    "num_clusters = model_config['num_clusters']\n",
    "base_unit_num = model_config['base_unit_num']\n",
    "emb_dim = model_config['emb_dim']\n",
    "\n",
    "output_dir = '../data/test'\n",
    "utils.makeDirs(output_dir)\n",
    "\n",
    "weight_path = '../data/train/weights/RDEC.pth'"
   ]
  },
  {
   "cell_type": "markdown",
   "id": "13b135c6-4e17-4de6-8d25-62b5c78de3e6",
   "metadata": {},
   "source": [
    "# load dataset"
   ]
  },
  {
   "cell_type": "code",
   "execution_count": 4,
   "id": "d314139a-60ae-4cf3-a026-b94a54ebf173",
   "metadata": {},
   "outputs": [],
   "source": [
    "dataloaders, classes = dataloader.load_mnist('../data', batch_size)"
   ]
  },
  {
   "cell_type": "markdown",
   "id": "73164a19-7911-423f-b53c-9effdac949d8",
   "metadata": {},
   "source": [
    "# def model"
   ]
  },
  {
   "cell_type": "code",
   "execution_count": 5,
   "id": "902e2444-53db-4ffc-b4f9-fba47f9cda6d",
   "metadata": {},
   "outputs": [
    {
     "data": {
      "text/plain": [
       "<All keys matched successfully>"
      ]
     },
     "execution_count": 5,
     "metadata": {},
     "output_type": "execute_result"
    }
   ],
   "source": [
    "encoder = EncoderBlock(encoder_layers, base_unit_num, emb_dim)\n",
    "for input_data, label in dataloaders['train']:\n",
    "    break\n",
    "model = RDEC(encoder, num_clusters, input_data,)\n",
    "model.load_state_dict(torch.load(weight_path))"
   ]
  },
  {
   "cell_type": "code",
   "execution_count": 6,
   "id": "d89302c2-8b64-4994-be5a-4733f35f9dd8",
   "metadata": {},
   "outputs": [],
   "source": [
    "for imgs, labels in dataloaders['test']:\n",
    "    break"
   ]
  },
  {
   "cell_type": "code",
   "execution_count": 7,
   "id": "dad56939-f5be-4ed8-a74a-523f862e081e",
   "metadata": {},
   "outputs": [],
   "source": [
    "idx = 1"
   ]
  },
  {
   "cell_type": "raw",
   "id": "71a384f0-e005-4318-8c18-5edec7a44f9b",
   "metadata": {},
   "source": [
    "print(labels[idx].numpy())\n",
    "plt.imshow(imgs[idx, 0].numpy())"
   ]
  },
  {
   "cell_type": "raw",
   "id": "7eb410df-f4dd-4d25-98a5-5d2d1cbc5b6e",
   "metadata": {},
   "source": [
    "label"
   ]
  },
  {
   "cell_type": "code",
   "execution_count": 11,
   "id": "f0a85f2b-c893-4515-a7de-575d9d880cdf",
   "metadata": {},
   "outputs": [],
   "source": [
    "q = model(imgs)\n",
    "pred = q.argmax(1)"
   ]
  },
  {
   "cell_type": "code",
   "execution_count": 16,
   "id": "407ce7c9-0498-428a-94a6-5a0f5d3b93ef",
   "metadata": {},
   "outputs": [
    {
     "name": "stdout",
     "output_type": "stream",
     "text": [
      "[5 1 7 2 3 3 8 8 0 8 3 7 3 8 4 0 3 2 3 1 5 4 3 9 4 5 8 5 3 0 4 0 5 5 0 2 8\n",
      " 8 5 7 1 3 1 0 5 7 3 6 1 9 1 0 9 8 1 1 5 1 7 9 0 1 9 2 0 1 4 2 6 9 5 2 0 8\n",
      " 5 4 0 1 3 5 8 9 4 0 6 4 1 2 8 5 3 5 3 7 5 7 9 1 2 0 5 0 9 1 1 6 6 3 2 7 2\n",
      " 6 1 9 5 5 8 1 5 9 3 8 9 7 6 2 0]\n",
      "[2 8 8 2 6 9 0 8 9 8 8 0 0 1 5 2 0 5 3 4 1 8 6 1 4 2 8 3 6 1 2 8 9 7 4 8 0\n",
      " 3 0 8 5 2 8 7 7 0 1 6 8]\n",
      "[3 2 5 7 2 9 3 9 3 5 1 3 3 6 1 2 7 8 1 3 2 4 3 2 2 7]\n",
      "[2 2 5 1 4 0 2 3 0 3 5 5 0 7 0 5 1 7 7 6 2 8 7 9 3 6 2 2]\n",
      "[2 1 7 0 8 4 0 1 1 6 9 8 2 9 5 0 3 0 3 7 4 4 1 2 5 1 5 7 4 9 2 5 8 1 8 5 0\n",
      " 1 5 3 3 0 7 6 2 3 6 8 7 5 8 0 2 9 6 3 5 6 8 9 5 8 1 4 8 3 2 6 7 0 5 0 9 0\n",
      " 9 9 1 7 0]\n",
      "[5 1 7 9 2 8 8 6 7 4 5 7 2 3 1 5 3 4 5 0 5 7 6 4 7 4 8 0 3 7]\n",
      "[3 5 5 2 6 8 9 5 2 7 4 2 6 9 6 3 2 7 8 0 3 8 6 9 2 8 1 4 1 2 6 5 5 7 2 3 0\n",
      " 6 8 7 9 6 9 1 1]\n",
      "[9 6 5 0 7 2 7 3 4 1 9 1 2 1 7 1 6 1]\n",
      "[9 0 7 3 1 0 2 7 2 0 5 7 2 6 8 1 4 9 1 4 9 4 6 3 7 7 2 5 1 4 8 0 8 1 8 3 1\n",
      " 1 3 4 3 9 3 6 3 9 3 7 4 8 5 7 8 4]\n",
      "[6 3 0 9 6 9 0 3 0 0 1 2 7 3 6 5 9 4 6 6 4 1 6 9 7 8 7 1 7 3 6 5 0 1 7 3 9\n",
      " 7 8 9 4 1 0 8 1 8 1 2 3 1 7 3 6 2 9 7]\n"
     ]
    }
   ],
   "source": [
    "for i in range(num_clusters):\n",
    "    print(label[pred==i].numpy())"
   ]
  },
  {
   "cell_type": "code",
   "execution_count": null,
   "id": "30514dc1-700a-4846-9395-fe3170613ed0",
   "metadata": {},
   "outputs": [],
   "source": []
  }
 ],
 "metadata": {
  "kernelspec": {
   "display_name": "Python 3",
   "language": "python",
   "name": "python3"
  },
  "language_info": {
   "codemirror_mode": {
    "name": "ipython",
    "version": 3
   },
   "file_extension": ".py",
   "mimetype": "text/x-python",
   "name": "python",
   "nbconvert_exporter": "python",
   "pygments_lexer": "ipython3",
   "version": "3.8.5"
  }
 },
 "nbformat": 4,
 "nbformat_minor": 5
}
