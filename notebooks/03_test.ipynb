{
 "cells": [
  {
   "cell_type": "markdown",
   "id": "ad466e05-d9a8-43c2-bebe-70443cb9c505",
   "metadata": {},
   "source": [
    "# import"
   ]
  },
  {
   "cell_type": "code",
   "execution_count": 1,
   "id": "3ed86e1c-3a52-45d9-8d1a-d73aa0508ed9",
   "metadata": {},
   "outputs": [],
   "source": [
    "import sys\n",
    "import os\n",
    "from tqdm import tqdm\n",
    "\n",
    "import torch\n",
    "\n",
    "import matplotlib.pyplot as plt\n",
    "import numpy as np\n",
    "\n",
    "sys.path.append('../src/')\n",
    "import utils\n",
    "import dataloader\n",
    "from train_utils import *\n",
    "from model.AutoEncoder import *\n",
    "from model.RDEC import RDEC"
   ]
  },
  {
   "cell_type": "markdown",
   "id": "0be0a732-30ee-48bd-9268-c895a208a5fc",
   "metadata": {},
   "source": [
    "# set params"
   ]
  },
  {
   "cell_type": "code",
   "execution_count": 2,
   "id": "f970ba5d-51ca-41f2-9a53-d8cee8cff26c",
   "metadata": {},
   "outputs": [],
   "source": [
    "config = utils.readConfig('../config.json')"
   ]
  },
  {
   "cell_type": "code",
   "execution_count": 3,
   "id": "f660b5f0-e8d6-4e04-976d-6ebd845c54f6",
   "metadata": {},
   "outputs": [],
   "source": [
    "train_config = config['train_params']['train']\n",
    "\n",
    "batch_size = train_config['batch_size']\n",
    "\n",
    "model_config = config['model_params']\n",
    "encoder_layers = model_config['encoder_layers']\n",
    "decoder_layers = model_config['decoder_layers']\n",
    "num_clusters = model_config['num_clusters']\n",
    "base_unit_num = model_config['base_unit_num']\n",
    "emb_dim = model_config['emb_dim']\n",
    "\n",
    "output_dir = '../data/test'\n",
    "utils.makeDirs(output_dir, ['graph'])\n",
    "\n",
    "weight_path = '../data/train/weights/RDEC.pth'\n",
    "enc_weight_path = '../data/pretrain/weights/Encoder.pth'\n",
    "dec_weight_path = '../data/pretrain/weights/Decoder.pth'"
   ]
  },
  {
   "cell_type": "markdown",
   "id": "13b135c6-4e17-4de6-8d25-62b5c78de3e6",
   "metadata": {},
   "source": [
    "# load dataset"
   ]
  },
  {
   "cell_type": "code",
   "execution_count": 4,
   "id": "d314139a-60ae-4cf3-a026-b94a54ebf173",
   "metadata": {},
   "outputs": [],
   "source": [
    "dataloaders, classes = dataloader.load_mnist('../data', batch_size)"
   ]
  },
  {
   "cell_type": "markdown",
   "id": "73164a19-7911-423f-b53c-9effdac949d8",
   "metadata": {},
   "source": [
    "# def model and load weights"
   ]
  },
  {
   "cell_type": "code",
   "execution_count": 5,
   "id": "006b95c0-3221-4aad-81e2-f0e2156d2013",
   "metadata": {},
   "outputs": [
    {
     "data": {
      "text/plain": [
       "<All keys matched successfully>"
      ]
     },
     "execution_count": 5,
     "metadata": {},
     "output_type": "execute_result"
    }
   ],
   "source": [
    "encoder = EncoderBlock(encoder_layers, base_unit_num, emb_dim)\n",
    "for input_data, label in dataloaders['train']:\n",
    "    break\n",
    "model = RDEC(encoder, num_clusters, input_data,)\n",
    "model.load_state_dict(torch.load(weight_path))"
   ]
  },
  {
   "cell_type": "code",
   "execution_count": 6,
   "id": "ee9309c6-76ce-41c3-bf55-9fb5ff553b8e",
   "metadata": {},
   "outputs": [
    {
     "data": {
      "text/plain": [
       "<All keys matched successfully>"
      ]
     },
     "execution_count": 6,
     "metadata": {},
     "output_type": "execute_result"
    }
   ],
   "source": [
    "auto_encoder = AutoEncoder(encoder_layers, decoder_layers,\n",
    "                           base_unit_num, emb_dim)\n",
    "auto_encoder.encoder.load_state_dict(torch.load(enc_weight_path))\n",
    "auto_encoder.decoder.load_state_dict(torch.load(dec_weight_path))"
   ]
  },
  {
   "cell_type": "markdown",
   "id": "c9060ab1-bb72-43d2-a819-625bd808665e",
   "metadata": {},
   "source": [
    "# load data"
   ]
  },
  {
   "cell_type": "code",
   "execution_count": 7,
   "id": "d89302c2-8b64-4994-be5a-4733f35f9dd8",
   "metadata": {},
   "outputs": [],
   "source": [
    "imgs_list = []\n",
    "labels_list = []\n",
    "for imgs, labels in dataloaders['test']:\n",
    "    imgs_list.append(imgs)\n",
    "    labels_list.append(labels)\n",
    "imgs = torch.cat(imgs_list, 0)\n",
    "labels = torch.cat(labels_list, 0)"
   ]
  },
  {
   "cell_type": "markdown",
   "id": "c586d03d-88dc-4a89-9b26-98ca4527061d",
   "metadata": {},
   "source": [
    "# Auto Encoder test"
   ]
  },
  {
   "cell_type": "code",
   "execution_count": 8,
   "id": "067dfcb3-2966-4541-b963-738df248740a",
   "metadata": {},
   "outputs": [],
   "source": [
    "rec_imgs = auto_encoder(imgs).detach().numpy()"
   ]
  },
  {
   "cell_type": "code",
   "execution_count": 9,
   "id": "fced819e-ac4b-424b-8e07-db6b5a505c66",
   "metadata": {
    "tags": []
   },
   "outputs": [],
   "source": [
    "fig = plt.figure(figsize=(10, 5))\n",
    "for idx in range(25):\n",
    "    ax = fig.add_subplot(5, 12, 7*(idx//5)+1+idx)\n",
    "    ax.imshow(imgs[idx, 0].numpy())\n",
    "    ax.set_xticklabels([])\n",
    "    ax.set_yticklabels([])\n",
    "    ax = fig.add_subplot(5, 12, 7*(idx//5)+7+idx)\n",
    "    ax.imshow(rec_imgs[idx, 0])\n",
    "    ax.set_xticklabels([])\n",
    "    ax.set_yticklabels([])\n",
    "plt.savefig(f'{output_dir}/graph/rec_img.jpg', bbox_inches='tight', dpi=300)\n",
    "plt.close()"
   ]
  },
  {
   "cell_type": "markdown",
   "id": "a2ac43d0-28c0-4712-8aec-1d0be1f31395",
   "metadata": {},
   "source": [
    "# RDEC test"
   ]
  },
  {
   "cell_type": "code",
   "execution_count": 10,
   "id": "c6370717-a562-46ac-aa34-86c2beebb762",
   "metadata": {},
   "outputs": [],
   "source": [
    "q = model(imgs)\n",
    "pred = q.argmin(1)"
   ]
  },
  {
   "cell_type": "code",
   "execution_count": 11,
   "id": "37182b19-9074-4125-892a-23ed762ee78e",
   "metadata": {},
   "outputs": [],
   "source": [
    "fig = plt.figure(figsize=(10, num_clusters*2))\n",
    "for i in range(num_clusters):\n",
    "    ax = fig.add_subplot(num_clusters//2, 2, i+1)\n",
    "    ax.hist([labels[pred==i]], bins=10, range=(-0.5, 9.5), ec='black')\n",
    "    ax.set_xlim(-0.5, 9.5)\n",
    "    ax.set_xlabel(f'cluster:{i}')\n",
    "plt.savefig(f'{output_dir}/graph/hist.jpg', bbox_inches='tight', dpi=300)\n",
    "plt.close()"
   ]
  },
  {
   "cell_type": "code",
   "execution_count": null,
   "id": "910d561d-c0eb-4a5f-a5b3-fa19f7a6de66",
   "metadata": {},
   "outputs": [],
   "source": []
  }
 ],
 "metadata": {
  "kernelspec": {
   "display_name": "Python 3",
   "language": "python",
   "name": "python3"
  },
  "language_info": {
   "codemirror_mode": {
    "name": "ipython",
    "version": 3
   },
   "file_extension": ".py",
   "mimetype": "text/x-python",
   "name": "python",
   "nbconvert_exporter": "python",
   "pygments_lexer": "ipython3",
   "version": "3.8.5"
  }
 },
 "nbformat": 4,
 "nbformat_minor": 5
}
