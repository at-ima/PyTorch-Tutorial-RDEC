{
 "cells": [
  {
   "cell_type": "markdown",
   "id": "ad466e05-d9a8-43c2-bebe-70443cb9c505",
   "metadata": {},
   "source": [
    "# import"
   ]
  },
  {
   "cell_type": "code",
   "execution_count": 1,
   "id": "3ed86e1c-3a52-45d9-8d1a-d73aa0508ed9",
   "metadata": {},
   "outputs": [],
   "source": [
    "import sys\n",
    "import os\n",
    "from tqdm import tqdm\n",
    "\n",
    "import torch\n",
    "from torch import nn, optim\n",
    "from torch.optim import lr_scheduler\n",
    "\n",
    "import matplotlib.pyplot as plt\n",
    "import numpy as np\n",
    "\n",
    "from tensorboardX import SummaryWriter\n",
    "\n",
    "sys.path.append('../src/')\n",
    "import utils\n",
    "import dataloader\n",
    "from train_utils import *\n",
    "from model.AutoEncoder import EncoderBlock\n",
    "from model.RDEC import RDEC"
   ]
  },
  {
   "cell_type": "markdown",
   "id": "0be0a732-30ee-48bd-9268-c895a208a5fc",
   "metadata": {},
   "source": [
    "# set params"
   ]
  },
  {
   "cell_type": "code",
   "execution_count": 2,
   "id": "f970ba5d-51ca-41f2-9a53-d8cee8cff26c",
   "metadata": {},
   "outputs": [],
   "source": [
    "config = utils.readConfig('../config.json')"
   ]
  },
  {
   "cell_type": "code",
   "execution_count": 3,
   "id": "f660b5f0-e8d6-4e04-976d-6ebd845c54f6",
   "metadata": {},
   "outputs": [],
   "source": [
    "train_config = config['train_params']['train']\n",
    "\n",
    "batch_size = train_config['batch_size']\n",
    "num_epochs = train_config['num_epochs']\n",
    "lr = train_config['lr']\n",
    "lr_factor = train_config['lr_factor']\n",
    "patience = train_config['patience']\n",
    "epsilon = train_config['epsilon']\n",
    "gamma = train_config['gamma']\n",
    "\n",
    "model_config = config['model_params']\n",
    "encoder_layers = model_config['encoder_layers']\n",
    "num_clusters = model_config['num_clusters']\n",
    "base_unit_num = model_config['base_unit_num']\n",
    "emb_dim = model_config['emb_dim']\n",
    "\n",
    "output_dir = '../data/train'\n",
    "utils.makeDirs(output_dir, ['log', 'weights'])\n",
    "\n",
    "weight_path = '../data/pretrain/weights/Encoder.pth'"
   ]
  },
  {
   "cell_type": "markdown",
   "id": "13b135c6-4e17-4de6-8d25-62b5c78de3e6",
   "metadata": {},
   "source": [
    "# load dataset"
   ]
  },
  {
   "cell_type": "code",
   "execution_count": 4,
   "id": "d314139a-60ae-4cf3-a026-b94a54ebf173",
   "metadata": {},
   "outputs": [],
   "source": [
    "dataloaders, classes = dataloader.load_mnist('../data', batch_size)"
   ]
  },
  {
   "cell_type": "markdown",
   "id": "73164a19-7911-423f-b53c-9effdac949d8",
   "metadata": {},
   "source": [
    "# def model"
   ]
  },
  {
   "cell_type": "code",
   "execution_count": 5,
   "id": "902e2444-53db-4ffc-b4f9-fba47f9cda6d",
   "metadata": {},
   "outputs": [],
   "source": [
    "encoder = EncoderBlock(encoder_layers, base_unit_num, emb_dim)\n",
    "encoder.load_state_dict(torch.load(weight_path))\n",
    "\n",
    "input_list = []\n",
    "for input_data, label in dataloaders['train']:\n",
    "    input_list.append(input_data)\n",
    "\n",
    "model = RDEC(encoder, num_clusters, torch.cat(input_list, 0),)\n",
    "torch.save(model.state_dict(),\n",
    "           os.path.join(f'{output_dir}/weights', 'RDEC_Pre.pth'))\n",
    "q2p = QtoPConverter()"
   ]
  },
  {
   "cell_type": "markdown",
   "id": "330be6e5-e570-41e2-acbd-8c476aee645b",
   "metadata": {},
   "source": [
    "# def optimizer"
   ]
  },
  {
   "cell_type": "code",
   "execution_count": 6,
   "id": "fd9d81cd-0871-4c79-ba9e-a6e4fa3c3b4e",
   "metadata": {},
   "outputs": [],
   "source": [
    "optimizer = optim.SGD(model.parameters(), lr=lr, momentum=0.9)"
   ]
  },
  {
   "cell_type": "markdown",
   "id": "59e42fa1-084a-47ad-b1d5-4fe82bf9c816",
   "metadata": {},
   "source": [
    "# train"
   ]
  },
  {
   "cell_type": "markdown",
   "id": "33c87bdd-74b0-454d-89f6-d70c3cb374b0",
   "metadata": {},
   "source": [
    "## prepare"
   ]
  },
  {
   "cell_type": "code",
   "execution_count": 7,
   "id": "1cde9498-766a-4e2c-8d94-858e81e410c0",
   "metadata": {
    "tags": []
   },
   "outputs": [],
   "source": [
    "loss_metric = LossMetric(KLDiv)\n",
    "\n",
    "torch.cuda.empty_cache()\n",
    "device = torch.device('cuda' if torch.cuda.is_available() else 'cpu')\n",
    "model.to(device)\n",
    "scheduler = lr_scheduler.ReduceLROnPlateau(optimizer, mode='min',\n",
    "                                           factor=lr_factor,verbose=True,\n",
    "                                           patience=patience)\n",
    "train_loss_accumulator = LossAccumulator(dataloaders['train'])"
   ]
  },
  {
   "cell_type": "markdown",
   "id": "8525ac7d-8a6a-466e-94c2-9b365ab2cd91",
   "metadata": {},
   "source": [
    "## train"
   ]
  },
  {
   "cell_type": "code",
   "execution_count": 8,
   "id": "58298344-da63-410c-9d87-063e29506cde",
   "metadata": {},
   "outputs": [
    {
     "name": "stderr",
     "output_type": "stream",
     "text": [
      "100%|██████████| 32/32 [02:24<00:00,  4.53s/it]\n"
     ]
    }
   ],
   "source": [
    "writer = SummaryWriter(f'{output_dir}/log')\n",
    "best_loss = 1000\n",
    "for epoch in tqdm(range(1, num_epochs + 1)):\n",
    "    \n",
    "    optimizer.zero_grad()\n",
    "    # Train\n",
    "    model.train()\n",
    "    train_loss_accumulator.clear()\n",
    "    for imgs, labels in dataloaders['train']:\n",
    "        optimizer.zero_grad()\n",
    "        \n",
    "        imgs = imgs.float().to(device)\n",
    "        imgs.requires_grad = True\n",
    "        q = model(imgs)\n",
    "        p = q2p(q)\n",
    "        loss = loss_metric(p, q)\n",
    "        loss.backward(retain_graph=True)\n",
    "        imgs_grad = imgs.grad.data\n",
    "\n",
    "        # Call FGSM Attack\n",
    "        perturbed_imgs = fgsm_attack(imgs, epsilon, imgs_grad)\n",
    "        q_ = model(imgs)\n",
    "        loss_ = loss_metric(q, q_)\n",
    "        sum_loss = loss + gamma * loss_\n",
    "        sum_loss.backward()\n",
    "        optimizer.step()\n",
    "        train_loss_accumulator(sum_loss)\n",
    "    \n",
    "    writer.add_scalar(\"train/loss\", train_loss_accumulator.loss, epoch)\n",
    "    \n",
    "    if best_loss > train_loss_accumulator.loss:\n",
    "        torch.save(model.state_dict(),\n",
    "                   os.path.join(f'{output_dir}/weights', 'RDEC.pth'))\n",
    "        best_score = train_loss_accumulator.loss\n",
    "writer.close()"
   ]
  },
  {
   "cell_type": "raw",
   "id": "3b9e0c5a-4e51-41fd-b764-726ea5fd87fb",
   "metadata": {},
   "source": [
    "q_np = q.cpu().detach().numpy()\n",
    "plt.hist(q_np[:, 0])"
   ]
  },
  {
   "cell_type": "raw",
   "id": "36d6574e-7c55-4851-8e04-166ee20473d3",
   "metadata": {},
   "source": [
    "p_np = p.cpu().detach().numpy()\n",
    "plt.hist(p_np[:, 0])"
   ]
  },
  {
   "cell_type": "code",
   "execution_count": null,
   "id": "5bd4f5ef-8575-49c3-9bb4-dfc1a52377a7",
   "metadata": {},
   "outputs": [],
   "source": []
  }
 ],
 "metadata": {
  "kernelspec": {
   "display_name": "Python 3",
   "language": "python",
   "name": "python3"
  },
  "language_info": {
   "codemirror_mode": {
    "name": "ipython",
    "version": 3
   },
   "file_extension": ".py",
   "mimetype": "text/x-python",
   "name": "python",
   "nbconvert_exporter": "python",
   "pygments_lexer": "ipython3",
   "version": "3.8.5"
  }
 },
 "nbformat": 4,
 "nbformat_minor": 5
}
