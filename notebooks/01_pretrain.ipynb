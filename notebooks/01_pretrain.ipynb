{
 "cells": [
  {
   "cell_type": "markdown",
   "id": "ad466e05-d9a8-43c2-bebe-70443cb9c505",
   "metadata": {},
   "source": [
    "# import"
   ]
  },
  {
   "cell_type": "code",
   "execution_count": 1,
   "id": "3ed86e1c-3a52-45d9-8d1a-d73aa0508ed9",
   "metadata": {},
   "outputs": [],
   "source": [
    "import sys\n",
    "import os\n",
    "from tqdm import tqdm\n",
    "\n",
    "import torch\n",
    "from torch import nn, optim\n",
    "from torch.optim import lr_scheduler\n",
    "\n",
    "import numpy as np\n",
    "\n",
    "from tensorboardX import SummaryWriter\n",
    "\n",
    "sys.path.append('../src/')\n",
    "import utils\n",
    "import dataloader\n",
    "from train_utils import LossMetric, LossAccumulator\n",
    "from sam import SAM\n",
    "from model.AutoEncoder import AutoEncoder"
   ]
  },
  {
   "cell_type": "markdown",
   "id": "0be0a732-30ee-48bd-9268-c895a208a5fc",
   "metadata": {},
   "source": [
    "# set params"
   ]
  },
  {
   "cell_type": "code",
   "execution_count": 2,
   "id": "f970ba5d-51ca-41f2-9a53-d8cee8cff26c",
   "metadata": {},
   "outputs": [],
   "source": [
    "config = utils.readConfig('../config.json')"
   ]
  },
  {
   "cell_type": "code",
   "execution_count": 3,
   "id": "f660b5f0-e8d6-4e04-976d-6ebd845c54f6",
   "metadata": {},
   "outputs": [],
   "source": [
    "train_config = config['train_params']['pretrain']\n",
    "\n",
    "batch_size = train_config['batch_size']\n",
    "num_epochs = train_config['num_epochs']\n",
    "lr = train_config['lr']\n",
    "val_portion = train_config['val_portion']\n",
    "lr_factor = train_config['lr_factor']\n",
    "patience = train_config['patience']\n",
    "\n",
    "model_config = config['model_params']\n",
    "encoder_layers = model_config['encoder_layers']\n",
    "decoder_layers = model_config['decoder_layers']\n",
    "base_unit_num = model_config['base_unit_num']\n",
    "emb_dim = model_config['emb_dim']\n",
    "\n",
    "output_dir = '../data/pretrain'\n",
    "utils.makeDirs(output_dir, ['log', 'weights'])"
   ]
  },
  {
   "cell_type": "markdown",
   "id": "13b135c6-4e17-4de6-8d25-62b5c78de3e6",
   "metadata": {},
   "source": [
    "# load dataset"
   ]
  },
  {
   "cell_type": "code",
   "execution_count": 4,
   "id": "d314139a-60ae-4cf3-a026-b94a54ebf173",
   "metadata": {},
   "outputs": [],
   "source": [
    "dataloaders, classes = dataloader.load_mnist('../data', batch_size, val_portion)"
   ]
  },
  {
   "cell_type": "markdown",
   "id": "73164a19-7911-423f-b53c-9effdac949d8",
   "metadata": {},
   "source": [
    "# def model"
   ]
  },
  {
   "cell_type": "code",
   "execution_count": 5,
   "id": "902e2444-53db-4ffc-b4f9-fba47f9cda6d",
   "metadata": {},
   "outputs": [],
   "source": [
    "model = AutoEncoder(encoder_layers, decoder_layers,\n",
    "                    base_unit_num, emb_dim)"
   ]
  },
  {
   "cell_type": "markdown",
   "id": "330be6e5-e570-41e2-acbd-8c476aee645b",
   "metadata": {},
   "source": [
    "# def optimizer"
   ]
  },
  {
   "cell_type": "code",
   "execution_count": 6,
   "id": "fd9d81cd-0871-4c79-ba9e-a6e4fa3c3b4e",
   "metadata": {},
   "outputs": [],
   "source": [
    "base_optimizer = optim.SGD\n",
    "optimizer = SAM(model.parameters(), base_optimizer, lr=lr)"
   ]
  },
  {
   "cell_type": "markdown",
   "id": "59e42fa1-084a-47ad-b1d5-4fe82bf9c816",
   "metadata": {},
   "source": [
    "# train"
   ]
  },
  {
   "cell_type": "markdown",
   "id": "33c87bdd-74b0-454d-89f6-d70c3cb374b0",
   "metadata": {},
   "source": [
    "## prepare"
   ]
  },
  {
   "cell_type": "code",
   "execution_count": 7,
   "id": "752c85bd-9280-4e32-8712-7f003a7985f5",
   "metadata": {},
   "outputs": [],
   "source": [
    "# define loss\n",
    "loss_metric = LossMetric(nn.MSELoss())\n",
    "\n",
    "# clear gpu cache memory\n",
    "try:\n",
    "    torch.cuda.empty_cache()\n",
    "except:\n",
    "    print(\"no GPUs\")\n",
    "    \n",
    "# device \n",
    "device = torch.device('cuda' if torch.cuda.is_available() else 'cpu')\n",
    "model.to(device)\n",
    "\n",
    "# set learning rate scheduler\n",
    "scheduler = lr_scheduler.ReduceLROnPlateau(optimizer, mode='min',\n",
    "                                           factor=lr_factor,verbose=True,\n",
    "                                           patience=patience)\n",
    "\n",
    "# loss logger\n",
    "train_loss_accumulator = LossAccumulator(dataloaders['train'])\n",
    "val_loss_accumulator = LossAccumulator(dataloaders['validation'])"
   ]
  },
  {
   "cell_type": "markdown",
   "id": "c2e78c68-8c51-4629-9745-4f799bd9bf74",
   "metadata": {},
   "source": [
    "## train"
   ]
  },
  {
   "cell_type": "code",
   "execution_count": null,
   "id": "c4e86812-1dd4-4dc0-93bd-1592221733fb",
   "metadata": {},
   "outputs": [
    {
     "name": "stderr",
     "output_type": "stream",
     "text": [
      " 23%|██▎       | 58/256 [03:50<13:15,  4.02s/it]"
     ]
    }
   ],
   "source": [
    "# open tensorboard\n",
    "writer = SummaryWriter(f'{output_dir}/log')\n",
    "\n",
    "best_loss = 10.0\n",
    "for epoch in tqdm(range(1, num_epochs + 1)):\n",
    "    # Train\n",
    "    \n",
    "    # set model to TRAINING mode (for BatchNorm, Dropout etc...)\n",
    "    model.train()\n",
    "    \n",
    "    # clear loss of pre epoch\n",
    "    train_loss_accumulator.clear()\n",
    "    \n",
    "    for imgs, labels in dataloaders['train']:\n",
    "        imgs = imgs.float().to(device)# cast inputs to GPU\n",
    "        \n",
    "        #1st step        \n",
    "        rec_imgs = model(imgs)# forward\n",
    "        loss = loss_metric(imgs, rec_imgs)# compute loss\n",
    "        loss.backward()\n",
    "        optimizer.first_step(zero_grad=True)# apply gradients\n",
    "        \n",
    "        train_loss_accumulator(loss)# logging loss\n",
    "        \n",
    "        #2nd step\n",
    "        rec_imgs = model(imgs)# forward\n",
    "        loss = loss_metric(imgs, rec_imgs)# compute loss\n",
    "        loss.backward()\n",
    "        optimizer.second_step(zero_grad=True)# apply gradients\n",
    "        \n",
    "    # Eval\n",
    "    \n",
    "    # set model to EVALUATION mode (for BatchNorm, Dropout etc...)\n",
    "    model.eval()\n",
    "    \n",
    "    # clear loss of pre epoch\n",
    "    val_loss_accumulator.clear()\n",
    "    \n",
    "    for imgs, labels in dataloaders['validation']:\n",
    "        imgs = imgs.float().to(device)# cast inputs to GPU\n",
    "        rec_imgs = model(imgs)# forward\n",
    "        loss = loss_metric(imgs, rec_imgs)# compute loss\n",
    "        val_loss_accumulator(loss)# apply gradients\n",
    "    \n",
    "    # add values to tensorboard\n",
    "    writer.add_scalar(\"pretrain/loss\", train_loss_accumulator.loss, epoch)\n",
    "    writer.add_scalar(\"pretrain/val_loss\", val_loss_accumulator.loss, epoch)\n",
    "    \n",
    "    # save best model\n",
    "    if best_loss > val_loss_accumulator.loss:\n",
    "        torch.save(model.encoder.state_dict(),\n",
    "                   os.path.join(f'{output_dir}/weights', 'Encoder.pth'))\n",
    "        torch.save(model.decoder.state_dict(),\n",
    "                   os.path.join(f'{output_dir}/weights', 'Decoder.pth'))\n",
    "        best_score = val_loss_accumulator.loss\n",
    "        \n",
    "# close tensorboard\n",
    "writer.close()"
   ]
  }
 ],
 "metadata": {
  "kernelspec": {
   "display_name": "Python 3",
   "language": "python",
   "name": "python3"
  },
  "language_info": {
   "codemirror_mode": {
    "name": "ipython",
    "version": 3
   },
   "file_extension": ".py",
   "mimetype": "text/x-python",
   "name": "python",
   "nbconvert_exporter": "python",
   "pygments_lexer": "ipython3",
   "version": "3.8.5"
  }
 },
 "nbformat": 4,
 "nbformat_minor": 5
}
